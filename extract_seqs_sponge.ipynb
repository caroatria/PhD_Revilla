{
 "cells": [
  {
   "cell_type": "markdown",
   "metadata": {},
   "source": [
    "Script to get the sequences for the cloning in Suberites domuncula"
   ]
  },
  {
   "cell_type": "code",
   "execution_count": 25,
   "metadata": {},
   "outputs": [
    {
     "name": "stdout",
     "output_type": "stream",
     "text": [
      "Sequence saved to test.fasta\n"
     ]
    }
   ],
   "source": [
    "def read_fasta(filename):\n",
    "    sequences = {}\n",
    "    current_seq = ''\n",
    "    with open(filename, 'r') as file:\n",
    "        for line in file:\n",
    "            line = line.strip()\n",
    "            if line.startswith('>'):\n",
    "                if current_seq:\n",
    "                    sequences[current_seq] = ''.join(current_sequence_lines)\n",
    "                current_seq = line[1:]\n",
    "                current_sequence_lines = []\n",
    "            else:\n",
    "                current_sequence_lines.append(line)\n",
    "        # Add the last sequence\n",
    "        if current_seq:\n",
    "            sequences[current_seq] = ''.join(current_sequence_lines)\n",
    "    return sequences\n",
    "\n",
    "def get_sequence(sequences, scaffold, start, end):\n",
    "    if scaffold in sequences:\n",
    "        sequence = sequences[scaffold][start-1:end]\n",
    "        return sequence\n",
    "    else:\n",
    "        return \"Scaffold not found.\"\n",
    "\n",
    "def main():\n",
    "    filename = \"/Users/carolinaatria/Desktop/ADesktop/Studium/Master/master_thesis/sponge/data_from_roger/python/data.nosync/genome_assembly/Suberites_domuncula_genome_clean.fasta\"\n",
    "    sequences = read_fasta(filename)\n",
    "    scaffold = input(\"Enter the scaffold name: \")\n",
    "    start = int(input(\"Enter the start position: \"))\n",
    "    end = int(input(\"Enter the end position: \"))\n",
    "    \n",
    "    sequence = get_sequence(sequences, scaffold, start, end)\n",
    "    output_filename = str(input(\"Enter the output filename to save the sequence fragment: \"))\n",
    "    \n",
    "    with open(output_filename, \"w\") as output_file:\n",
    "        output_file.write(sequence)\n",
    "    print(\"Sequence saved to\", output_filename)\n",
    "\n",
    "\n",
    "if __name__ == \"__main__\":\n",
    "    main()"
   ]
  }
 ],
 "metadata": {
  "kernelspec": {
   "display_name": "jan2024",
   "language": "python",
   "name": "python3"
  },
  "language_info": {
   "codemirror_mode": {
    "name": "ipython",
    "version": 3
   },
   "file_extension": ".py",
   "mimetype": "text/x-python",
   "name": "python",
   "nbconvert_exporter": "python",
   "pygments_lexer": "ipython3",
   "version": "3.9.18"
  }
 },
 "nbformat": 4,
 "nbformat_minor": 2
}
