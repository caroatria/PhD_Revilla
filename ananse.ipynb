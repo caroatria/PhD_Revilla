{
 "cells": [
  {
   "cell_type": "code",
   "execution_count": 1,
   "metadata": {},
   "outputs": [],
   "source": [
    "#ANANSE scRNA-seq pipeline\n",
    "import scanpy as sc\n",
    "import numpy as np\n",
    "import pandas as pd\n",
    "import seaborn as sns\n",
    "import matplotlib.pyplot as plt\n",
    "import muon as mu\n",
    "#import anansescanpy as asc\n",
    "import anansescanpy as asc"
   ]
  },
  {
   "cell_type": "code",
   "execution_count": 2,
   "metadata": {},
   "outputs": [
    {
     "name": "stdout",
     "output_type": "stream",
     "text": [
      "Added `interval` annotation for features from /Users/carolinaatria/Desktop/ADesktop/Studium/PhD/unicellulars/abeoforma/filtered_feature_bc_matrix.h5\n",
      "Located fragments file: /Users/carolinaatria/Desktop/ADesktop/Studium/PhD/unicellulars/abeoforma/atac_fragments.tsv.gz\n"
     ]
    },
    {
     "name": "stderr",
     "output_type": "stream",
     "text": [
      "/Users/carolinaatria/Library/Python/3.9/lib/python/site-packages/muon/_atac/tools.py:728: UserWarning: Peak annotation from /Users/carolinaatria/Desktop/ADesktop/Studium/PhD/unicellulars/abeoforma/atac_peak_annotation.tsv could not be added. Please check the annotation file is formatted correctly.\n",
      "  warn(\n"
     ]
    }
   ],
   "source": [
    "matrix_file = \"/Users/carolinaatria/Desktop/ADesktop/Studium/PhD/unicellulars/abeoforma/filtered_feature_bc_matrix.h5\"\n",
    "matrix_directory=\"/Users/carolinaatria/Desktop/ADesktop/Studium/PhD/unicellulars/abeoforma/filtered_feature_bc_matrix\"\n",
    "\n",
    "mdata = mu.read_10x_h5(matrix_file)\n",
    "adata = mdata[\"rna\"]\n",
    "atac = mdata[\"atac\"]"
   ]
  },
  {
   "cell_type": "code",
   "execution_count": 100,
   "metadata": {},
   "outputs": [],
   "source": [
    "adata.raw=adata\n",
    "sc.pp.normalize_total(adata, target_sum=1e4)\n",
    "sc.pp.log1p(adata)\n",
    "sc.pp.pca(adata)\n",
    "sc.pp.neighbors(adata, n_neighbors=10, n_pcs=30)\n",
    "sc.tl.umap(adata)"
   ]
  },
  {
   "cell_type": "code",
   "execution_count": 3,
   "metadata": {},
   "outputs": [],
   "source": [
    "clust = pd.read_csv(\"/Users/carolinaatria/Desktop/ADesktop/Studium/PhD/unicellulars/abeoforma/analysis/clustering/gex/graphclust/clusters.csv\",index_col=False)\n",
    "adata.obs[\"cluster\"] = list(clust[\"Cluster\"])"
   ]
  },
  {
   "cell_type": "code",
   "execution_count": 4,
   "metadata": {},
   "outputs": [],
   "source": [
    "umap = pd.read_csv(\"/Users/carolinaatria/Desktop/ADesktop/Studium/PhD/unicellulars/abeoforma/analysis/dimensionality_reduction/gex/umap_projection.csv\",index_col=False)\n",
    "\n",
    "#adata.obsm[\"X_umap\"] = umap[['UMAP-1', 'UMAP-2']].to_records(index=False)\n",
    "adata.obsm[\"X_umap\"] = umap[['UMAP-1', 'UMAP-2']].values"
   ]
  },
  {
   "cell_type": "code",
   "execution_count": 5,
   "metadata": {},
   "outputs": [],
   "source": [
    "umap = pd.read_csv(\"/Users/carolinaatria/Desktop/ADesktop/Studium/PhD/unicellulars/abeoforma/analysis/dimensionality_reduction/gex/tsne_projection.csv\",index_col=False)\n",
    "\n",
    "#adata.obsm[\"X_umap\"] = umap[['UMAP-1', 'UMAP-2']].to_records(index=False)\n",
    "adata.obsm[\"X_tsne\"] = umap[['TSNE-1', 'TSNE-2']].values"
   ]
  },
  {
   "cell_type": "code",
   "execution_count": 6,
   "metadata": {},
   "outputs": [
    {
     "data": {
      "text/plain": [
       "array([[ -0.14125061, -10.3303671 ],\n",
       "       [  4.55866142,  32.07934811],\n",
       "       [-12.37710981, -22.50500018],\n",
       "       ...,\n",
       "       [ -6.40285654,  14.80439736],\n",
       "       [-14.68186584,  24.44568466],\n",
       "       [-12.01688927, -24.37204748]])"
      ]
     },
     "execution_count": 6,
     "metadata": {},
     "output_type": "execute_result"
    }
   ],
   "source": [
    "adata.obsm[\"X_tsne\"]"
   ]
  },
  {
   "cell_type": "code",
   "execution_count": 14,
   "metadata": {},
   "outputs": [
    {
     "ename": "AttributeError",
     "evalue": "'ColormapRegistry' object has no attribute 'get_cmap'",
     "output_type": "error",
     "traceback": [
      "\u001b[0;31m---------------------------------------------------------------------------\u001b[0m",
      "\u001b[0;31mAttributeError\u001b[0m                            Traceback (most recent call last)",
      "Cell \u001b[0;32mIn[14], line 1\u001b[0m\n\u001b[0;32m----> 1\u001b[0m \u001b[43msc\u001b[49m\u001b[38;5;241;43m.\u001b[39;49m\u001b[43mpl\u001b[49m\u001b[38;5;241;43m.\u001b[39;49m\u001b[43mumap\u001b[49m\u001b[43m(\u001b[49m\u001b[43madata\u001b[49m\u001b[43m,\u001b[49m\u001b[43mcmap\u001b[49m\u001b[38;5;241;43m=\u001b[39;49m\u001b[38;5;124;43m'\u001b[39;49m\u001b[38;5;124;43mviridis\u001b[39;49m\u001b[38;5;124;43m'\u001b[39;49m\u001b[43m)\u001b[49m\n",
      "File \u001b[0;32m~/Library/Python/3.9/lib/python/site-packages/scanpy/plotting/_tools/scatterplots.py:692\u001b[0m, in \u001b[0;36mumap\u001b[0;34m(adata, **kwargs)\u001b[0m\n\u001b[1;32m    633\u001b[0m \u001b[38;5;129m@_wraps_plot_scatter\u001b[39m\n\u001b[1;32m    634\u001b[0m \u001b[38;5;129m@_doc_params\u001b[39m(\n\u001b[1;32m    635\u001b[0m     adata_color_etc\u001b[38;5;241m=\u001b[39mdoc_adata_color_etc,\n\u001b[0;32m   (...)\u001b[0m\n\u001b[1;32m    639\u001b[0m )\n\u001b[1;32m    640\u001b[0m \u001b[38;5;28;01mdef\u001b[39;00m \u001b[38;5;21mumap\u001b[39m(adata, \u001b[38;5;241m*\u001b[39m\u001b[38;5;241m*\u001b[39mkwargs) \u001b[38;5;241m-\u001b[39m\u001b[38;5;241m>\u001b[39m Union[Axes, List[Axes], \u001b[38;5;28;01mNone\u001b[39;00m]:\n\u001b[1;32m    641\u001b[0m \u001b[38;5;250m    \u001b[39m\u001b[38;5;124;03m\"\"\"\\\u001b[39;00m\n\u001b[1;32m    642\u001b[0m \u001b[38;5;124;03m    Scatter plot in UMAP basis.\u001b[39;00m\n\u001b[1;32m    643\u001b[0m \n\u001b[0;32m   (...)\u001b[0m\n\u001b[1;32m    690\u001b[0m \u001b[38;5;124;03m    tl.umap\u001b[39;00m\n\u001b[1;32m    691\u001b[0m \u001b[38;5;124;03m    \"\"\"\u001b[39;00m\n\u001b[0;32m--> 692\u001b[0m     \u001b[38;5;28;01mreturn\u001b[39;00m \u001b[43membedding\u001b[49m\u001b[43m(\u001b[49m\u001b[43madata\u001b[49m\u001b[43m,\u001b[49m\u001b[43m \u001b[49m\u001b[38;5;124;43m'\u001b[39;49m\u001b[38;5;124;43mumap\u001b[39;49m\u001b[38;5;124;43m'\u001b[39;49m\u001b[43m,\u001b[49m\u001b[43m \u001b[49m\u001b[38;5;241;43m*\u001b[39;49m\u001b[38;5;241;43m*\u001b[39;49m\u001b[43mkwargs\u001b[49m\u001b[43m)\u001b[49m\n",
      "File \u001b[0;32m~/Library/Python/3.9/lib/python/site-packages/scanpy/plotting/_tools/scatterplots.py:166\u001b[0m, in \u001b[0;36membedding\u001b[0;34m(adata, basis, color, gene_symbols, use_raw, sort_order, edges, edges_width, edges_color, neighbors_key, arrows, arrows_kwds, groups, components, dimensions, layer, projection, scale_factor, color_map, cmap, palette, na_color, na_in_legend, size, frameon, legend_fontsize, legend_fontweight, legend_loc, legend_fontoutline, colorbar_loc, vmax, vmin, vcenter, norm, add_outline, outline_width, outline_color, ncols, hspace, wspace, title, show, save, ax, return_fig, **kwargs)\u001b[0m\n\u001b[1;32m    164\u001b[0m     \u001b[38;5;28;01melse\u001b[39;00m:\n\u001b[1;32m    165\u001b[0m         cmap \u001b[38;5;241m=\u001b[39m color_map\n\u001b[0;32m--> 166\u001b[0m cmap \u001b[38;5;241m=\u001b[39m copy(\u001b[43mcolormaps\u001b[49m\u001b[38;5;241;43m.\u001b[39;49m\u001b[43mget_cmap\u001b[49m(cmap))\n\u001b[1;32m    167\u001b[0m cmap\u001b[38;5;241m.\u001b[39mset_bad(na_color)\n\u001b[1;32m    168\u001b[0m kwargs[\u001b[38;5;124m\"\u001b[39m\u001b[38;5;124mcmap\u001b[39m\u001b[38;5;124m\"\u001b[39m] \u001b[38;5;241m=\u001b[39m cmap\n",
      "\u001b[0;31mAttributeError\u001b[0m: 'ColormapRegistry' object has no attribute 'get_cmap'"
     ]
    }
   ],
   "source": [
    "sc.pl.umap(adata,cmap='viridis')"
   ]
  },
  {
   "cell_type": "code",
   "execution_count": 13,
   "metadata": {},
   "outputs": [
    {
     "name": "stdout",
     "output_type": "stream",
     "text": [
      "zipp: 3.16.2\n",
      "wcwidth: 0.2.6\n",
      "typing-extensions: 4.7.1\n",
      "traitlets: 5.9.0\n",
      "tornado: 6.3.3\n",
      "tasklogger: 1.2.0\n",
      "tables: 3.8.0\n",
      "stack-data: 0.6.2\n",
      "sinfo: 0.3.4\n",
      "scprep: 1.2.0\n",
      "scipy: 1.11.4\n",
      "scanpy: 1.9.6\n",
      "pyzmq: 25.1.1\n",
      "python-dateutil: 2.8.2\n",
      "pysam: 0.21.0\n",
      "pygsp: 0.5.1\n",
      "pygments: 2.16.1\n",
      "py-cpuinfo: 9.0.0\n",
      "pure-eval: 0.2.2\n",
      "ptyprocess: 0.7.0\n",
      "psutil: 5.9.5\n",
      "protobuf: 4.23.4\n",
      "prompt-toolkit: 3.0.39\n",
      "platformdirs: 3.10.0\n",
      "pickleshare: 0.7.5\n",
      "pexpect: 4.8.0\n",
      "parso: 0.8.3\n",
      "pandas: 1.5.3\n",
      "packaging: 21.3\n",
      "numpy: 1.23.5\n",
      "numexpr: 2.8.5\n",
      "numba: 0.56.4\n",
      "nest-asyncio: 1.5.7\n",
      "muon: 0.1.5\n",
      "mudata: 0.2.3\n",
      "msgpack: 1.0.5\n",
      "matplotlib-inline: 0.1.6\n",
      "magic-impute: 3.0.0\n",
      "llvmlite: 0.39.1\n",
      "legacy-api-wrap: 1.2\n",
      "jupyter-core: 5.3.1\n",
      "jupyter-client: 8.3.0\n",
      "jedi: 0.19.0\n",
      "ipython: 8.14.0\n",
      "ipykernel: 6.25.1\n",
      "importlib-metadata: 6.8.0\n",
      "h5py: 3.4.0\n",
      "graphtools: 1.5.2\n",
      "get-annotations: 0.1.2\n",
      "future: 0.18.2\n",
      "executing: 1.2.0\n",
      "deprecated: 1.2.13\n",
      "decorator: 5.1.1\n",
      "debugpy: 1.6.7.post1\n",
      "cython: 3.0.0\n",
      "comm: 0.1.4\n",
      "blosc2: 2.0.0\n",
      "backcall: 0.2.0\n",
      "asttokens: 2.2.1\n",
      "appnope: 0.1.3\n",
      "anndata: 0.8.0\n",
      "anansescanpy: 1.0.0\n",
      "xlsxwriter: 3.0.3\n",
      "wrapt: 1.12.1\n",
      "werkzeug: 2.2.2\n",
      "urllib3: 1.26.2\n",
      "umap-learn: 0.5.3\n",
      "tzlocal: 2.1\n",
      "tqdm: 4.56.0\n",
      "tomli: 2.0.1\n",
      "toml: 0.10.2\n",
      "threadpoolctl: 3.1.0\n",
      "texttable: 1.6.4\n",
      "stdlib-list: 0.8.0\n",
      "statsmodels: 0.13.2\n",
      "sortedcontainers: 2.4.0\n",
      "six: 1.15.0\n",
      "sh: 1.14.1\n",
      "setuptools: 49.2.1\n",
      "session-info: 1.0.0\n",
      "seaborn: 0.11.2\n",
      "scvelo: 0.2.4\n",
      "scikit-learn: 1.1.0\n",
      "scanoramact: 1.2.0\n",
      "rpy2: 3.5.3\n",
      "retry: 0.9.2\n",
      "requests: 2.25.1\n",
      "regex: 2020.11.13\n",
      "pyyaml: 6.0\n",
      "pytz: 2020.5\n",
      "python-utils: 3.3.3\n",
      "python-socketio: 5.7.2\n",
      "python-math: 0.0.1\n",
      "python-engineio: 4.3.4\n",
      "pytest: 7.1.2\n",
      "pyqt5: 5.15.7\n",
      "pyqt5-sip: 12.11.0\n",
      "pyqt5-qt5: 5.15.2\n",
      "pyparsing: 2.4.7\n",
      "pynndescent: 0.5.7\n",
      "pylint: 2.6.0\n",
      "pygpcca: 1.0.3\n",
      "pygam: 0.8.0\n",
      "pycparser: 2.21\n",
      "pycodestyle: 2.8.0\n",
      "py: 1.10.0\n",
      "progressbar2: 4.0.0\n",
      "plumbing: 2.9.8\n",
      "pluggy: 0.13.1\n",
      "pip: 22.2.2\n",
      "pillow: 9.1.0\n",
      "permutation: 0.3.0\n",
      "pd: 0.0.1\n",
      "patsy: 0.5.2\n",
      "palettable: 3.3.0\n",
      "openpyxl: 3.0.10\n",
      "numpy-groupies: 0.9.17\n",
      "networkx: 2.7.1\n",
      "natsort: 8.1.0\n",
      "mccabe: 0.6.1\n",
      "matplotlib: 3.5.2\n",
      "matplotlib-venn: 0.11.6\n",
      "markupsafe: 2.1.1\n",
      "loompy: 3.0.7\n",
      "leidenalg: 0.8.10\n",
      "lazy-object-proxy: 1.4.3\n",
      "kiwisolver: 1.3.1\n",
      "joblib: 1.1.0\n",
      "jinja2: 3.1.2\n",
      "itsdangerous: 2.1.2\n",
      "isort: 5.7.0\n",
      "intervaltree: 2.1.0\n",
      "iniconfig: 1.1.1\n",
      "imageio: 2.19.1\n",
      "igraph: 0.9.11\n",
      "idna: 2.10\n",
      "graphviz: 0.19.1\n",
      "gprofiler: 1.2.2\n",
      "get-version: 3.5.4\n",
      "geosketch: 1.2\n",
      "func-timeout: 4.3.5\n",
      "fonttools: 4.34.4\n",
      "flask: 2.0.0\n",
      "flask-socketio: 4.3.1\n",
      "fbpca: 1.0\n",
      "fastcluster: 1.2.6\n",
      "fasta: 2.2.4\n",
      "et-xmlfile: 1.1.0\n",
      "entrypoints: 0.4\n",
      "dunamai: 1.13.0\n",
      "dotplot: 0.4.5\n",
      "docrep: 0.3.2\n",
      "cycler: 0.10.0\n",
      "colorama: 0.4.4\n",
      "cnmf: 1.3.4\n",
      "click: 8.1.3\n",
      "chardet: 4.0.0\n",
      "cffi: 1.15.1\n",
      "certifi: 2020.12.5\n",
      "cellrank: 1.5.1\n",
      "biopython: 1.78\n",
      "bio: 0.3.0\n",
      "bidict: 0.22.0\n",
      "autopep8: 1.6.0\n",
      "autopaths: 1.4.6\n",
      "attrs: 20.3.0\n",
      "astroid: 2.4.2\n",
      "annoy: 1.17.0\n",
      "anndata2ri: 1.1\n"
     ]
    }
   ],
   "source": [
    "import pkg_resources\n",
    "\n",
    "# Get a list of installed packages and their versions\n",
    "installed_packages = {pkg.key: pkg.version for pkg in pkg_resources.working_set}\n",
    "\n",
    "# Print the versions\n",
    "for package, version in installed_packages.items():\n",
    "    print(f\"{package}: {version}\")"
   ]
  }
 ],
 "metadata": {
  "kernelspec": {
   "display_name": "Python 3",
   "language": "python",
   "name": "python3"
  },
  "language_info": {
   "codemirror_mode": {
    "name": "ipython",
    "version": 3
   },
   "file_extension": ".py",
   "mimetype": "text/x-python",
   "name": "python",
   "nbconvert_exporter": "python",
   "pygments_lexer": "ipython3",
   "version": "3.9.1"
  }
 },
 "nbformat": 4,
 "nbformat_minor": 2
}
