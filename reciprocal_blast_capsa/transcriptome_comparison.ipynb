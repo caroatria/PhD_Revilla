{
 "cells": [
  {
   "cell_type": "code",
   "execution_count": null,
   "metadata": {},
   "outputs": [],
   "source": [
    "#create table between two transcriptomes for capsaspora owzarzaki"
   ]
  },
  {
   "cell_type": "code",
   "execution_count": 40,
   "metadata": {},
   "outputs": [],
   "source": [
    "#python: 3.9.1\n",
    "#not 3.9.6, 3.11.0., 3.10.0.,\n",
    "import scanpy as sc\n",
    "from Bio import SeqIO\n",
    "import os\n",
    "import pandas as pd\n",
    "adata = sc.read_10x_h5(\"/Users/work/Library/Mobile Documents/com~apple~CloudDocs/Desktop/ADesktop/Studium/PhD/unicellulars/capsaspora_gex/filtered_feature_bc_matrix.h5\")\n",
    "genes = list(adata.var.index)\n",
    "\n",
    "capsa_new=\"/Users/work/Library/Mobile Documents/com~apple~CloudDocs/Desktop/ADesktop/Studium/PhD/code/reciprocal_blast_capsa/Capsaspora.transcriptome.longestIsoform.fasta\"\n",
    "capsa_old=\"/Users/work/Desktop/data/capsaspora_old/test.fasta\"  # Path to your transcriptome fasta file\n",
    "\n",
    "#proteome_file = \"/Users/work/Desktop/mus_musculus/proteome/proteome_shorthand/mus_musculus.transcriptome.fasta\"\n",
    "#transcriptome_file = \"suberites_domuncula.longest_isoform.fasta\"  # Path to your transcriptome fasta file"
   ]
  },
  {
   "cell_type": "code",
   "execution_count": 29,
   "metadata": {},
   "outputs": [
    {
     "name": "stdout",
     "output_type": "stream",
     "text": [
      "\n",
      "\n",
      "Building a new DB, current time: 05/06/2024 19:50:28\n",
      "New DB name:   /Users/work/Desktop/data/capsaspora_old/capsaspora.transcriptome.old.fasta\n",
      "New DB title:  /Users/work/Desktop/data/capsaspora_old/capsaspora.transcriptome.old.fasta\n",
      "Sequence type: Nucleotide\n",
      "Keep MBits: T\n",
      "Maximum file size: 3000000000B\n",
      "BLAST options error: /Users/work/Desktop/data/capsaspora_old/capsaspora.transcriptome.old.fasta does not match input format type, default input type is FASTA\n",
      "Warning: [blastn] Examining 5 or more matches is recommended\n",
      "BLAST Database error: No alias or index file found for nucleotide database [/Users/work/Desktop/data/capsaspora_old/capsaspora.transcriptome.old.fasta] in search path [/Users/work/Library/Mobile Documents/com~apple~CloudDocs/Desktop/ADesktop/Studium/PhD/code/reciprocal_blast_capsa::]\n"
     ]
    }
   ],
   "source": [
    "output_file = \"tmp/new_to_old.fasta\"  # Path to the output file to save the sequences\n",
    "\n",
    "# Open the output file for writing\n",
    "with open(output_file, \"w\") as output_handle:\n",
    "    # Iterate over the selected genes in the specified order\n",
    "    for selected_gene in genes:\n",
    "        # Iterate over the sequences in the transcriptome fasta file\n",
    "        for record in SeqIO.parse(capsa_new, \"fasta\"):\n",
    "            gene_name = record.id  # Assuming the gene name is the sequence identifier\n",
    "            if gene_name == selected_gene:\n",
    "                # Write the selected gene sequence to the output file\n",
    "                SeqIO.write(record, output_handle, \"fasta\")\n",
    "                break  # Exit the inner loop once the gene is found\n",
    "\n",
    "#!./blast.sh tmp/myc_targets_sd.fasta tmp/1\n",
    "!./blast.sh tmp/new_to_old.fasta tmp/1 && awk -F',' '!seen[$1]++' tmp/1 > tmp/2"
   ]
  },
  {
   "cell_type": "code",
   "execution_count": 41,
   "metadata": {},
   "outputs": [
    {
     "name": "stdout",
     "output_type": "stream",
     "text": [
      "\n",
      "\n",
      "Building a new DB, current time: 05/06/2024 20:20:19\n",
      "New DB name:   /Users/work/Desktop/data/capsaspora_new/Capsaspora.transcriptome.longestIsoform.fasta\n",
      "New DB title:  /Users/work/Desktop/data/capsaspora_new/Capsaspora.transcriptome.longestIsoform.fasta\n",
      "Sequence type: Nucleotide\n",
      "Deleted existing Nucleotide BLAST database named /Users/work/Desktop/data/capsaspora_new/Capsaspora.transcriptome.longestIsoform.fasta\n",
      "Keep MBits: T\n",
      "Maximum file size: 3000000000B\n",
      "Adding sequences from FASTA; added 9031 sequences in 0.295429 seconds.\n",
      "\n",
      "\n",
      "Warning: [blastn] Examining 5 or more matches is recommended\n"
     ]
    }
   ],
   "source": [
    "file_path = \"tmp/2\" \n",
    "\n",
    "second_items = []\n",
    "\n",
    "with open(file_path, 'r') as file:\n",
    "    items=file.read().split(\"\\n\")\n",
    "    for item in items[:len(items)-1]:\n",
    "        second_items.append(str(item.split(\",\")[1]))\n",
    "\n",
    "#os.remove(output_file)\n",
    "output_file = \"tmp/old_to_new.fasta\"\n",
    "\n",
    "# Create a set to store the selected gene names\n",
    "selected_genes_set = set(second_items)\n",
    "\n",
    "# Open the output file for writing\n",
    "with open(output_file, \"w\") as output_handle:\n",
    "    # Iterate over the sequences in the proteome fasta file\n",
    "    for record in SeqIO.parse(capsa_old, \"fasta\"):\n",
    "        gene_name = record.id  # Assuming the gene name is the sequence identifier\n",
    "        \n",
    "        # Check if the current gene is in the set of selected genes\n",
    "        if gene_name in selected_genes_set:\n",
    "            # Write the selected gene sequence to the output file\n",
    "            SeqIO.write(record, output_handle, \"fasta\")\n",
    "            \n",
    "            # Remove the gene from the selected_genes_set\n",
    "            selected_genes_set.remove(gene_name)\n",
    "            \n",
    "            # Check if all selected genes have been found\n",
    "            if len(selected_genes_set) == 0:\n",
    "                break\n",
    "\n",
    "!./recip_blast.sh tmp/old_to_new.fasta tmp/3 && awk -F',' '!seen[$1]++' tmp/3 > tmp/4"
   ]
  },
  {
   "cell_type": "code",
   "execution_count": 42,
   "metadata": {},
   "outputs": [
    {
     "name": "stderr",
     "output_type": "stream",
     "text": [
      "/var/folders/tb/mtqjrwzn04v2ws67ymnhmv5h0000gp/T/ipykernel_24138/1545246581.py:23: UserWarning: Pandas requires version '3.0.5' or newer of 'xlsxwriter' (version '3.0.3' currently installed).\n",
      "  merged_df.to_excel(full_blast_file, index=False)\n"
     ]
    },
    {
     "name": "stdout",
     "output_type": "stream",
     "text": [
      "Merged data saved to 'full_transcriptome_capsaspora.xlsx'.\n"
     ]
    }
   ],
   "source": [
    "input_file1 = \"tmp/2\"  # Path to the first input file\n",
    "input_file2 = \"tmp/4\"  # Path to the second input file\n",
    "full_blast_file = \"full_transcriptome_capsaspora.xlsx\"\n",
    "\n",
    "with open(input_file1, 'r') as file:\n",
    "    list1=file.read().split(\"\\n\")\n",
    "with open(input_file2, 'r') as file:\n",
    "    list2=file.read().split(\"\\n\")\n",
    "\n",
    "\n",
    "# Split the elements of list1 into separate columns\n",
    "list1_split = [item.split(',') for item in list1]\n",
    "list1_df = pd.DataFrame(list1_split, columns=['Capsa new', 'Capsa old', 'e-value'])\n",
    "\n",
    "# Split the elements of list2 into separate columns\n",
    "list2_split = [item.split(',') for item in list2]\n",
    "list2_df = pd.DataFrame(list2_split, columns=['Capsa old', 'recip Capsa new', 'e-value'])\n",
    "\n",
    "# Merge the two dataframes based on the 'Mouse ID' column\n",
    "merged_df = pd.merge(list1_df, list2_df, on='Capsa old', how='left')\n",
    "\n",
    "# Save the merged dataframe to an Excel file\n",
    "merged_df.to_excel(full_blast_file, index=False)\n",
    "\n",
    "print(\"Merged data saved to '%s'.\" % full_blast_file)\n",
    "#os.remove(output_file)\n",
    "#os.remove(input_file1)\n",
    "#os.remove(input_file2)\n",
    "\n",
    "#=IF(A2=D2;\"success\";\"error\")"
   ]
  }
 ],
 "metadata": {
  "kernelspec": {
   "display_name": "Python 3",
   "language": "python",
   "name": "python3"
  },
  "language_info": {
   "codemirror_mode": {
    "name": "ipython",
    "version": 3
   },
   "file_extension": ".py",
   "mimetype": "text/x-python",
   "name": "python",
   "nbconvert_exporter": "python",
   "pygments_lexer": "ipython3",
   "version": "3.9.1"
  }
 },
 "nbformat": 4,
 "nbformat_minor": 2
}
