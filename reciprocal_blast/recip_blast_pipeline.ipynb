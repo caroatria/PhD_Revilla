{
 "cells": [
  {
   "cell_type": "code",
   "execution_count": null,
   "metadata": {},
   "outputs": [],
   "source": [
    "#code to run a reciprocal blast on entire transcriptome (suberites domuncula vs mus musculus)"
   ]
  },
  {
   "cell_type": "code",
   "execution_count": 27,
   "metadata": {},
   "outputs": [],
   "source": [
    "#python: 3.9.1\n",
    "#not 3.9.6, 3.11.0., 3.10.0.,\n",
    "import scanpy as sc\n",
    "from Bio import SeqIO\n",
    "import os\n",
    "import pandas as pd\n",
    "adata = sc.read_h5ad(\"/Users/work/Desktop/subdom.h5ad\")\n",
    "genes = list(adata.var.index)\n",
    "\n",
    "proteome_file = \"/Users/work/Desktop/mus_musculus/proteome/proteome_shorthand/mus_musculus.transcriptome.fasta\"\n",
    "transcriptome_file = \"suberites_domuncula.longest_isoform.fasta\"  # Path to your transcriptome fasta file"
   ]
  },
  {
   "cell_type": "code",
   "execution_count": 28,
   "metadata": {},
   "outputs": [
    {
     "name": "stdout",
     "output_type": "stream",
     "text": [
      "\n",
      "\n",
      "Building a new DB, current time: 04/30/2024 09:20:17\n",
      "New DB name:   /Users/work/Desktop/mus_musculus/proteome/proteome_shorthand/mus_musculus.transcriptome.fasta\n",
      "New DB title:  /Users/work/Desktop/mus_musculus/proteome/proteome_shorthand/mus_musculus.transcriptome.fasta\n",
      "Sequence type: Protein\n",
      "Deleted existing Protein BLAST database named /Users/work/Desktop/mus_musculus/proteome/proteome_shorthand/mus_musculus.transcriptome.fasta\n",
      "Keep MBits: T\n",
      "Maximum file size: 3000000000B\n",
      "Adding sequences from FASTA; added 54910 sequences in 1.30455 seconds.\n",
      "\n",
      "\n",
      "Warning: [blastx] Examining 5 or more matches is recommended\n"
     ]
    }
   ],
   "source": [
    "output_file = \"tmp/sd_to_mm.fasta\"  # Path to the output file to save the sequences\n",
    "\n",
    "# Open the output file for writing\n",
    "with open(output_file, \"w\") as output_handle:\n",
    "    # Iterate over the selected genes in the specified order\n",
    "    for selected_gene in genes:\n",
    "        # Iterate over the sequences in the transcriptome fasta file\n",
    "        for record in SeqIO.parse(transcriptome_file, \"fasta\"):\n",
    "            gene_name = record.id  # Assuming the gene name is the sequence identifier\n",
    "            # Check if the current gene matches the selected gene\n",
    "            if gene_name == selected_gene:\n",
    "                # Write the selected gene sequence to the output file\n",
    "                SeqIO.write(record, output_handle, \"fasta\")\n",
    "                break  # Exit the inner loop once the gene is found\n",
    "\n",
    "#!./blast.sh tmp/myc_targets_sd.fasta tmp/1\n",
    "!./blast.sh tmp/sd_to_mm.fasta tmp/1 && awk -F',' '!seen[$1]++' tmp/1 > tmp/2"
   ]
  },
  {
   "cell_type": "code",
   "execution_count": 29,
   "metadata": {},
   "outputs": [
    {
     "name": "stdout",
     "output_type": "stream",
     "text": [
      "\n",
      "\n",
      "Building a new DB, current time: 04/30/2024 13:31:06\n",
      "New DB name:   /Users/work/Library/Mobile Documents/com~apple~CloudDocs/Desktop/ADesktop/Studium/PhD/code/reciprocal_blast/suberites_domuncula.longest_isoform.fasta\n",
      "New DB title:  suberites_domuncula.longest_isoform.fasta\n",
      "Sequence type: Nucleotide\n",
      "Keep MBits: T\n",
      "Maximum file size: 3000000000B\n",
      "Adding sequences from FASTA; added 14398 sequences in 0.487354 seconds.\n",
      "\n",
      "\n",
      "BLAST Database error: No alias or index file found for nucleotide database [/Users/work/Library/Mobile] in search path [/Users/work/Library/Mobile Documents/com~apple~CloudDocs/Desktop/ADesktop/Studium/PhD/code/reciprocal_blast::]\n",
      "Warning: [tblastn] Examining 5 or more matches is recommended\n"
     ]
    }
   ],
   "source": [
    "file_path = \"tmp/2\" \n",
    "\n",
    "second_items = []\n",
    "\n",
    "with open(file_path, 'r') as file:\n",
    "    items=file.read().split(\"\\n\")\n",
    "    for item in items[:len(items)-1]:\n",
    "        second_items.append(str(item.split(\",\")[1]))\n",
    "\n",
    "os.remove(output_file)\n",
    "output_file = \"tmp/mm_to_sd.fasta\"\n",
    "\n",
    "# Create a set to store the selected gene names\n",
    "selected_genes_set = set(second_items)\n",
    "\n",
    "# Open the output file for writing\n",
    "with open(output_file, \"w\") as output_handle:\n",
    "    # Iterate over the sequences in the proteome fasta file\n",
    "    for record in SeqIO.parse(proteome_file, \"fasta\"):\n",
    "        gene_name = record.id  # Assuming the gene name is the sequence identifier\n",
    "        \n",
    "        # Check if the current gene is in the set of selected genes\n",
    "        if gene_name in selected_genes_set:\n",
    "            # Write the selected gene sequence to the output file\n",
    "            SeqIO.write(record, output_handle, \"fasta\")\n",
    "            \n",
    "            # Remove the gene from the selected_genes_set\n",
    "            selected_genes_set.remove(gene_name)\n",
    "            \n",
    "            # Check if all selected genes have been found\n",
    "            if len(selected_genes_set) == 0:\n",
    "                break\n",
    "\n",
    "!./recip_blast.sh tmp/mm_to_sd.fasta tmp/3 && awk -F',' '!seen[$1]++' tmp/3 > tmp/4"
   ]
  },
  {
   "cell_type": "code",
   "execution_count": 30,
   "metadata": {},
   "outputs": [
    {
     "name": "stderr",
     "output_type": "stream",
     "text": [
      "/var/folders/tb/mtqjrwzn04v2ws67ymnhmv5h0000gp/T/ipykernel_44876/4247996276.py:23: UserWarning: Pandas requires version '3.0.5' or newer of 'xlsxwriter' (version '3.0.3' currently installed).\n",
      "  merged_df.to_excel(full_blast_file, index=False)\n"
     ]
    },
    {
     "name": "stdout",
     "output_type": "stream",
     "text": [
      "Merged data saved to 'tmp/full_transcriptome.xlsx'.\n"
     ]
    }
   ],
   "source": [
    "input_file1 = \"tmp/2\"  # Path to the first input file\n",
    "input_file2 = \"tmp/4\"  # Path to the second input file\n",
    "full_blast_file = \"tmp/full_transcriptome.xlsx\"\n",
    "\n",
    "with open(input_file1, 'r') as file:\n",
    "    list1=file.read().split(\"\\n\")\n",
    "with open(input_file2, 'r') as file:\n",
    "    list2=file.read().split(\"\\n\")\n",
    "\n",
    "\n",
    "# Split the elements of list1 into separate columns\n",
    "list1_split = [item.split(',') for item in list1]\n",
    "list1_df = pd.DataFrame(list1_split, columns=['Sponge gene', 'Mouse protein', 'e-value'])\n",
    "\n",
    "# Split the elements of list2 into separate columns\n",
    "list2_split = [item.split(',') for item in list2]\n",
    "list2_df = pd.DataFrame(list2_split, columns=['Mouse protein', 'reciprocal sponge match', 'e-value'])\n",
    "\n",
    "# Merge the two dataframes based on the 'Mouse ID' column\n",
    "merged_df = pd.merge(list1_df, list2_df, on='Mouse protein', how='left')\n",
    "\n",
    "# Save the merged dataframe to an Excel file\n",
    "merged_df.to_excel(full_blast_file, index=False)\n",
    "\n",
    "print(\"Merged data saved to '%s'.\" % full_blast_file)\n",
    "os.remove(output_file)\n",
    "os.remove(input_file1)\n",
    "os.remove(input_file2)"
   ]
  },
  {
   "cell_type": "code",
   "execution_count": 32,
   "metadata": {},
   "outputs": [
    {
     "ename": "ImportError",
     "evalue": "Pandas requires version '3.1.0' or newer of 'openpyxl' (version '3.0.10' currently installed).",
     "output_type": "error",
     "traceback": [
      "\u001b[0;31m---------------------------------------------------------------------------\u001b[0m",
      "\u001b[0;31mImportError\u001b[0m                               Traceback (most recent call last)",
      "Cell \u001b[0;32mIn[32], line 4\u001b[0m\n\u001b[1;32m      1\u001b[0m file_path \u001b[38;5;241m=\u001b[39m full_blast_file\n\u001b[1;32m      3\u001b[0m \u001b[38;5;66;03m# Read the Excel file into a pandas DataFrame\u001b[39;00m\n\u001b[0;32m----> 4\u001b[0m df \u001b[38;5;241m=\u001b[39m \u001b[43mpd\u001b[49m\u001b[38;5;241;43m.\u001b[39;49m\u001b[43mread_excel\u001b[49m\u001b[43m(\u001b[49m\u001b[43mfile_path\u001b[49m\u001b[43m)\u001b[49m\n",
      "File \u001b[0;32m~/Library/Python/3.9/lib/python/site-packages/pandas/io/excel/_base.py:495\u001b[0m, in \u001b[0;36mread_excel\u001b[0;34m(io, sheet_name, header, names, index_col, usecols, dtype, engine, converters, true_values, false_values, skiprows, nrows, na_values, keep_default_na, na_filter, verbose, parse_dates, date_parser, date_format, thousands, decimal, comment, skipfooter, storage_options, dtype_backend, engine_kwargs)\u001b[0m\n\u001b[1;32m    493\u001b[0m \u001b[38;5;28;01mif\u001b[39;00m \u001b[38;5;129;01mnot\u001b[39;00m \u001b[38;5;28misinstance\u001b[39m(io, ExcelFile):\n\u001b[1;32m    494\u001b[0m     should_close \u001b[38;5;241m=\u001b[39m \u001b[38;5;28;01mTrue\u001b[39;00m\n\u001b[0;32m--> 495\u001b[0m     io \u001b[38;5;241m=\u001b[39m \u001b[43mExcelFile\u001b[49m\u001b[43m(\u001b[49m\n\u001b[1;32m    496\u001b[0m \u001b[43m        \u001b[49m\u001b[43mio\u001b[49m\u001b[43m,\u001b[49m\n\u001b[1;32m    497\u001b[0m \u001b[43m        \u001b[49m\u001b[43mstorage_options\u001b[49m\u001b[38;5;241;43m=\u001b[39;49m\u001b[43mstorage_options\u001b[49m\u001b[43m,\u001b[49m\n\u001b[1;32m    498\u001b[0m \u001b[43m        \u001b[49m\u001b[43mengine\u001b[49m\u001b[38;5;241;43m=\u001b[39;49m\u001b[43mengine\u001b[49m\u001b[43m,\u001b[49m\n\u001b[1;32m    499\u001b[0m \u001b[43m        \u001b[49m\u001b[43mengine_kwargs\u001b[49m\u001b[38;5;241;43m=\u001b[39;49m\u001b[43mengine_kwargs\u001b[49m\u001b[43m,\u001b[49m\n\u001b[1;32m    500\u001b[0m \u001b[43m    \u001b[49m\u001b[43m)\u001b[49m\n\u001b[1;32m    501\u001b[0m \u001b[38;5;28;01melif\u001b[39;00m engine \u001b[38;5;129;01mand\u001b[39;00m engine \u001b[38;5;241m!=\u001b[39m io\u001b[38;5;241m.\u001b[39mengine:\n\u001b[1;32m    502\u001b[0m     \u001b[38;5;28;01mraise\u001b[39;00m \u001b[38;5;167;01mValueError\u001b[39;00m(\n\u001b[1;32m    503\u001b[0m         \u001b[38;5;124m\"\u001b[39m\u001b[38;5;124mEngine should not be specified when passing \u001b[39m\u001b[38;5;124m\"\u001b[39m\n\u001b[1;32m    504\u001b[0m         \u001b[38;5;124m\"\u001b[39m\u001b[38;5;124man ExcelFile - ExcelFile already has the engine set\u001b[39m\u001b[38;5;124m\"\u001b[39m\n\u001b[1;32m    505\u001b[0m     )\n",
      "File \u001b[0;32m~/Library/Python/3.9/lib/python/site-packages/pandas/io/excel/_base.py:1567\u001b[0m, in \u001b[0;36mExcelFile.__init__\u001b[0;34m(self, path_or_buffer, engine, storage_options, engine_kwargs)\u001b[0m\n\u001b[1;32m   1564\u001b[0m \u001b[38;5;28mself\u001b[39m\u001b[38;5;241m.\u001b[39mengine \u001b[38;5;241m=\u001b[39m engine\n\u001b[1;32m   1565\u001b[0m \u001b[38;5;28mself\u001b[39m\u001b[38;5;241m.\u001b[39mstorage_options \u001b[38;5;241m=\u001b[39m storage_options\n\u001b[0;32m-> 1567\u001b[0m \u001b[38;5;28mself\u001b[39m\u001b[38;5;241m.\u001b[39m_reader \u001b[38;5;241m=\u001b[39m \u001b[38;5;28;43mself\u001b[39;49m\u001b[38;5;241;43m.\u001b[39;49m\u001b[43m_engines\u001b[49m\u001b[43m[\u001b[49m\u001b[43mengine\u001b[49m\u001b[43m]\u001b[49m\u001b[43m(\u001b[49m\n\u001b[1;32m   1568\u001b[0m \u001b[43m    \u001b[49m\u001b[38;5;28;43mself\u001b[39;49m\u001b[38;5;241;43m.\u001b[39;49m\u001b[43m_io\u001b[49m\u001b[43m,\u001b[49m\n\u001b[1;32m   1569\u001b[0m \u001b[43m    \u001b[49m\u001b[43mstorage_options\u001b[49m\u001b[38;5;241;43m=\u001b[39;49m\u001b[43mstorage_options\u001b[49m\u001b[43m,\u001b[49m\n\u001b[1;32m   1570\u001b[0m \u001b[43m    \u001b[49m\u001b[43mengine_kwargs\u001b[49m\u001b[38;5;241;43m=\u001b[39;49m\u001b[43mengine_kwargs\u001b[49m\u001b[43m,\u001b[49m\n\u001b[1;32m   1571\u001b[0m \u001b[43m\u001b[49m\u001b[43m)\u001b[49m\n",
      "File \u001b[0;32m~/Library/Python/3.9/lib/python/site-packages/pandas/io/excel/_openpyxl.py:552\u001b[0m, in \u001b[0;36mOpenpyxlReader.__init__\u001b[0;34m(self, filepath_or_buffer, storage_options, engine_kwargs)\u001b[0m\n\u001b[1;32m    534\u001b[0m \u001b[38;5;129m@doc\u001b[39m(storage_options\u001b[38;5;241m=\u001b[39m_shared_docs[\u001b[38;5;124m\"\u001b[39m\u001b[38;5;124mstorage_options\u001b[39m\u001b[38;5;124m\"\u001b[39m])\n\u001b[1;32m    535\u001b[0m \u001b[38;5;28;01mdef\u001b[39;00m \u001b[38;5;21m__init__\u001b[39m(\n\u001b[1;32m    536\u001b[0m     \u001b[38;5;28mself\u001b[39m,\n\u001b[0;32m   (...)\u001b[0m\n\u001b[1;32m    539\u001b[0m     engine_kwargs: \u001b[38;5;28mdict\u001b[39m \u001b[38;5;241m|\u001b[39m \u001b[38;5;28;01mNone\u001b[39;00m \u001b[38;5;241m=\u001b[39m \u001b[38;5;28;01mNone\u001b[39;00m,\n\u001b[1;32m    540\u001b[0m ) \u001b[38;5;241m-\u001b[39m\u001b[38;5;241m>\u001b[39m \u001b[38;5;28;01mNone\u001b[39;00m:\n\u001b[1;32m    541\u001b[0m \u001b[38;5;250m    \u001b[39m\u001b[38;5;124;03m\"\"\"\u001b[39;00m\n\u001b[1;32m    542\u001b[0m \u001b[38;5;124;03m    Reader using openpyxl engine.\u001b[39;00m\n\u001b[1;32m    543\u001b[0m \n\u001b[0;32m   (...)\u001b[0m\n\u001b[1;32m    550\u001b[0m \u001b[38;5;124;03m        Arbitrary keyword arguments passed to excel engine.\u001b[39;00m\n\u001b[1;32m    551\u001b[0m \u001b[38;5;124;03m    \"\"\"\u001b[39;00m\n\u001b[0;32m--> 552\u001b[0m     \u001b[43mimport_optional_dependency\u001b[49m\u001b[43m(\u001b[49m\u001b[38;5;124;43m\"\u001b[39;49m\u001b[38;5;124;43mopenpyxl\u001b[39;49m\u001b[38;5;124;43m\"\u001b[39;49m\u001b[43m)\u001b[49m\n\u001b[1;32m    553\u001b[0m     \u001b[38;5;28msuper\u001b[39m()\u001b[38;5;241m.\u001b[39m\u001b[38;5;21m__init__\u001b[39m(\n\u001b[1;32m    554\u001b[0m         filepath_or_buffer,\n\u001b[1;32m    555\u001b[0m         storage_options\u001b[38;5;241m=\u001b[39mstorage_options,\n\u001b[1;32m    556\u001b[0m         engine_kwargs\u001b[38;5;241m=\u001b[39mengine_kwargs,\n\u001b[1;32m    557\u001b[0m     )\n",
      "File \u001b[0;32m~/Library/Python/3.9/lib/python/site-packages/pandas/compat/_optional.py:164\u001b[0m, in \u001b[0;36mimport_optional_dependency\u001b[0;34m(name, extra, errors, min_version)\u001b[0m\n\u001b[1;32m    162\u001b[0m     \u001b[38;5;28;01mreturn\u001b[39;00m \u001b[38;5;28;01mNone\u001b[39;00m\n\u001b[1;32m    163\u001b[0m \u001b[38;5;28;01melif\u001b[39;00m errors \u001b[38;5;241m==\u001b[39m \u001b[38;5;124m\"\u001b[39m\u001b[38;5;124mraise\u001b[39m\u001b[38;5;124m\"\u001b[39m:\n\u001b[0;32m--> 164\u001b[0m     \u001b[38;5;28;01mraise\u001b[39;00m \u001b[38;5;167;01mImportError\u001b[39;00m(msg)\n\u001b[1;32m    165\u001b[0m \u001b[38;5;28;01melse\u001b[39;00m:\n\u001b[1;32m    166\u001b[0m     \u001b[38;5;28;01mreturn\u001b[39;00m \u001b[38;5;28;01mNone\u001b[39;00m\n",
      "\u001b[0;31mImportError\u001b[0m: Pandas requires version '3.1.0' or newer of 'openpyxl' (version '3.0.10' currently installed)."
     ]
    }
   ],
   "source": [
    "file_path = full_blast_file\n",
    "\n",
    "# Read the Excel file into a pandas DataFrame\n",
    "df = pd.read_excel(file_path)"
   ]
  },
  {
   "cell_type": "code",
   "execution_count": 34,
   "metadata": {},
   "outputs": [],
   "source": [
    "merged_df['Match'] = merged_df['Sponge gene'] == merged_df['reciprocal sponge match']\n"
   ]
  },
  {
   "cell_type": "code",
   "execution_count": 37,
   "metadata": {},
   "outputs": [
    {
     "data": {
      "text/plain": [
       "Match\n",
       "True     5211\n",
       "False    3457\n",
       "Name: count, dtype: int64"
      ]
     },
     "execution_count": 37,
     "metadata": {},
     "output_type": "execute_result"
    }
   ],
   "source": [
    "merged_df[\"Match\"].value_counts()"
   ]
  }
 ],
 "metadata": {
  "kernelspec": {
   "display_name": "Python 3",
   "language": "python",
   "name": "python3"
  },
  "language_info": {
   "codemirror_mode": {
    "name": "ipython",
    "version": 3
   },
   "file_extension": ".py",
   "mimetype": "text/x-python",
   "name": "python",
   "nbconvert_exporter": "python",
   "pygments_lexer": "ipython3",
   "version": "3.9.1"
  }
 },
 "nbformat": 4,
 "nbformat_minor": 2
}
