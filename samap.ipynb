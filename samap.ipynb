{
 "cells": [
  {
   "cell_type": "code",
   "execution_count": null,
   "metadata": {},
   "outputs": [],
   "source": [
    "#samsap notebook for suberites vs other sponges\n"
   ]
  },
  {
   "cell_type": "code",
   "execution_count": 1,
   "metadata": {},
   "outputs": [
    {
     "name": "stderr",
     "output_type": "stream",
     "text": [
      "/Users/work/Library/Python/3.9/lib/python/site-packages/tqdm/auto.py:21: TqdmWarning: IProgress not found. Please update jupyter and ipywidgets. See https://ipywidgets.readthedocs.io/en/stable/user_install.html\n",
      "  from .autonotebook import tqdm as notebook_tqdm\n"
     ]
    }
   ],
   "source": [
    "from samap.mapping import SAMAP\n",
    "from samap.analysis import (get_mapping_scores, GenePairFinder,\n",
    "                            sankey_plot, chord_plot, CellTypeTriangles, \n",
    "                            ParalogSubstitutions, FunctionalEnrichment,\n",
    "                            convert_eggnog_to_homologs, GeneTriangles)\n",
    "from samalg import SAM\n",
    "import pandas as pd"
   ]
  },
  {
   "cell_type": "code",
   "execution_count": 19,
   "metadata": {},
   "outputs": [
    {
     "name": "stdout",
     "output_type": "stream",
     "text": [
      "\n",
      "\n",
      "Building a new DB, current time: 04/19/2024 14:35:52\n",
      "New DB name:   /Users/work/Library/Mobile Documents/com~apple~CloudDocs/Desktop/ADesktop/Studium/PhD/code/transcriptomes/SUB2.transcripts.fa\n",
      "New DB title:  transcriptomes/SUB2.transcripts.fa\n",
      "Sequence type: Nucleotide\n",
      "Keep MBits: T\n",
      "Maximum file size: 3000000000B\n",
      "BLAST options error: File transcriptomes/SUB2.transcripts.fa does not exist\n",
      "\n",
      "\n",
      "Building a new DB, current time: 04/19/2024 14:35:53\n",
      "New DB name:   /Users/work/Library/Mobile Documents/com~apple~CloudDocs/Desktop/ADesktop/Studium/PhD/code/transcriptomes/hydra_transcriptome.fasta\n",
      "New DB title:  transcriptomes/hydra_transcriptome.fasta\n",
      "Sequence type: Nucleotide\n",
      "Keep MBits: T\n",
      "Maximum file size: 3000000000B\n",
      "BLAST options error: File transcriptomes/hydra_transcriptome.fasta does not exist\n",
      "Running tblastx in both directions\n",
      "Command line argument error: Argument \"query\". File is not accessible:  `transcriptomes/SUB2.transcripts.fa'\n",
      "Command line argument error: Argument \"query\". File is not accessible:  `transcriptomes/hydra_transcriptome.fasta'\n"
     ]
    }
   ],
   "source": [
    "!samap/map_genes.sh --tr1 transcriptomes/SUB2.transcripts.fasta --t1 nucl --n1 sd --tr2 transcriptomes/hydra_transcriptome.fasta --t2 nucl --n2 hv"
   ]
  }
 ],
 "metadata": {
  "kernelspec": {
   "display_name": "Python 3",
   "language": "python",
   "name": "python3"
  },
  "language_info": {
   "codemirror_mode": {
    "name": "ipython",
    "version": 3
   },
   "file_extension": ".py",
   "mimetype": "text/x-python",
   "name": "python",
   "nbconvert_exporter": "python",
   "pygments_lexer": "ipython3",
   "version": "3.9.1"
  }
 },
 "nbformat": 4,
 "nbformat_minor": 2
}
